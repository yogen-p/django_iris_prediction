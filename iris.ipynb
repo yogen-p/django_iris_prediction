{
 "cells": [
  {
   "cell_type": "code",
   "execution_count": 4,
   "metadata": {},
   "outputs": [
    {
     "name": "stdout",
     "output_type": "stream",
     "text": [
      "0.9666666666666667\n"
     ]
    }
   ],
   "source": [
    "# Import modules\n",
    "from sklearn.model_selection import train_test_split\n",
    "from sklearn.metrics import accuracy_score\n",
    "from sklearn.svm import SVC\n",
    "import pandas as pd\n",
    "\n",
    "# Load dataset\n",
    "data = pd.read_csv(\"iris_data.csv\")\n",
    "\n",
    "# Reading data\n",
    "X = data[['sepal_length','sepal_width','petal_length','petal_width']]\n",
    "y = data['classification']\n",
    "\n",
    "# Train-Test split 80/20\n",
    "x_train, x_test, y_train, y_test = train_test_split(X, y, test_size=.2, random_state=1)\n",
    "\n",
    "# Train model\n",
    "model = SVC(gamma='auto')\n",
    "model.fit(x_train, y_train)\n",
    "\n",
    "# Predict values\n",
    "pred = model.predict(x_test)\n",
    "\n",
    "# Model accuracy\n",
    "print(accuracy_score(y_test, pred))\n",
    "\n",
    "# Saving model to pickle\n",
    "pd.to_pickle(model, 'iris_model.pickle')"
   ]
  }
 ],
 "metadata": {
  "kernelspec": {
   "display_name": "Python 3",
   "language": "python",
   "name": "python3"
  },
  "language_info": {
   "codemirror_mode": {
    "name": "ipython",
    "version": 3
   },
   "file_extension": ".py",
   "mimetype": "text/x-python",
   "name": "python",
   "nbconvert_exporter": "python",
   "pygments_lexer": "ipython3",
   "version": "3.6.9"
  }
 },
 "nbformat": 4,
 "nbformat_minor": 4
}
